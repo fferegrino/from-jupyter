{
 "cells": [
  {
   "cell_type": "markdown",
   "id": "86d32084-85b5-4b47-af83-87c48e109b5d",
   "metadata": {},
   "source": [
    "# The largest "
   ]
  },
  {
   "cell_type": "markdown",
   "id": "81eec43f-054a-499b-ab89-ec378112e32a",
   "metadata": {},
   "source": [
    "## The second largest heading"
   ]
  },
  {
   "cell_type": "markdown",
   "id": "06a8488b-8d38-4982-b143-2d1bb70632c6",
   "metadata": {},
   "source": [
    "### The smallest heading"
   ]
  },
  {
   "cell_type": "markdown",
   "id": "345dca28-f911-497d-83f0-a85bb9e115c1",
   "metadata": {},
   "source": [
    "Text that is not a quote\n",
    "\n",
    "> Text that is a quote"
   ]
  },
  {
   "cell_type": "markdown",
   "id": "7e6d9ab7-b65c-402b-8bf7-8bbfccc4217b",
   "metadata": {},
   "source": [
    "Use `git status` to list all new or modified files that haven't yet been committed."
   ]
  },
  {
   "cell_type": "markdown",
   "id": "fc67b555-43c9-4947-be16-cb6d5a57f9ab",
   "metadata": {},
   "source": [
    "![This is an image](https://myoctocat.com/assets/images/base-octocat.svg)"
   ]
  },
  {
   "cell_type": "markdown",
   "id": "656b0f10-a19c-4cc5-95da-18f1f340a8d1",
   "metadata": {},
   "source": [
    "## Lists\n",
    "\n",
    " - George Washington\n",
    " - John Adams  \n",
    " - Thomas Jefferson  "
   ]
  },
  {
   "cell_type": "markdown",
   "id": "28dcd853-020f-4943-a7f2-d3d31a1c4f08",
   "metadata": {},
   "source": [
    " 1. James Madison\n",
    " 2. James Monroe\n",
    " 3. John Quincy Adams"
   ]
  },
  {
   "cell_type": "markdown",
   "id": "2bbf25f1-ece7-45ab-99f3-d6166cd590bb",
   "metadata": {},
   "source": [
    "```python\n",
    "def a():\n",
    "    pass\n",
    "```"
   ]
  },
  {
   "cell_type": "code",
   "execution_count": null,
   "id": "fe1521da-34fb-4083-a49a-0c1222206749",
   "metadata": {},
   "outputs": [],
   "source": []
  }
 ],
 "metadata": {
  "kernelspec": {
   "display_name": "Python 3 (ipykernel)",
   "language": "python",
   "name": "python3"
  },
  "language_info": {
   "codemirror_mode": {
    "name": "ipython",
    "version": 3
   },
   "file_extension": ".py",
   "mimetype": "text/x-python",
   "name": "python",
   "nbconvert_exporter": "python",
   "pygments_lexer": "ipython3",
   "version": "3.8.8"
  }
 },
 "nbformat": 4,
 "nbformat_minor": 5
}